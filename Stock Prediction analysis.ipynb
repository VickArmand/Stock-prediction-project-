{
 "cells": [
  {
   "cell_type": "code",
   "execution_count": 11,
   "id": "7c3d9f9e",
   "metadata": {},
   "outputs": [],
   "source": [
    "import numpy as np\n",
    "import pandas as pd\n",
    "import matplotlib.pyplot as plt\n",
    "import statsmodels.formula.api as smf"
   ]
  },
  {
   "cell_type": "code",
   "execution_count": 15,
   "id": "d09ec156",
   "metadata": {},
   "outputs": [],
   "source": [
    "Stock_Market = { 'Year': [2017,2017,2017,2017,2017,2017,2017,2017,2017,2017,2017,2017],\n",
    "                'Month':[12,11,10,9,8,7,6,5,4,3,2,1],\n",
    "    'Interest_Rate':[2.75,2.5,2.5,2.5,2.5,2.5,2.5,2.5,2.5,2.5,2.5,2.5],\n",
    "                'Unemployment_Rate':[5.3,5.3,5.3,5.3,5.4,5.6,5.3,5.3,5.3,5.3,5.4,5.6],\n",
    "                'Stock_Index_Price':[1464,1394,1357,1293,1256,1254,1253,1394,1357,1293,1256,1254]\n",
    "    \n",
    "}"
   ]
  },
  {
   "cell_type": "code",
   "execution_count": 16,
   "id": "f16e76a1",
   "metadata": {},
   "outputs": [],
   "source": [
    "df=pd.DataFrame(Stock_Market)"
   ]
  },
  {
   "cell_type": "code",
   "execution_count": 17,
   "id": "5ab902db",
   "metadata": {},
   "outputs": [
    {
     "data": {
      "text/html": [
       "<div>\n",
       "<style scoped>\n",
       "    .dataframe tbody tr th:only-of-type {\n",
       "        vertical-align: middle;\n",
       "    }\n",
       "\n",
       "    .dataframe tbody tr th {\n",
       "        vertical-align: top;\n",
       "    }\n",
       "\n",
       "    .dataframe thead th {\n",
       "        text-align: right;\n",
       "    }\n",
       "</style>\n",
       "<table border=\"1\" class=\"dataframe\">\n",
       "  <thead>\n",
       "    <tr style=\"text-align: right;\">\n",
       "      <th></th>\n",
       "      <th>Year</th>\n",
       "      <th>Month</th>\n",
       "      <th>Interest_Rate</th>\n",
       "      <th>Unemployment_Rate</th>\n",
       "      <th>Stock_Index_Price</th>\n",
       "    </tr>\n",
       "  </thead>\n",
       "  <tbody>\n",
       "    <tr>\n",
       "      <th>0</th>\n",
       "      <td>2017</td>\n",
       "      <td>12</td>\n",
       "      <td>2.75</td>\n",
       "      <td>5.3</td>\n",
       "      <td>1464</td>\n",
       "    </tr>\n",
       "    <tr>\n",
       "      <th>1</th>\n",
       "      <td>2017</td>\n",
       "      <td>11</td>\n",
       "      <td>2.50</td>\n",
       "      <td>5.3</td>\n",
       "      <td>1394</td>\n",
       "    </tr>\n",
       "    <tr>\n",
       "      <th>2</th>\n",
       "      <td>2017</td>\n",
       "      <td>10</td>\n",
       "      <td>2.50</td>\n",
       "      <td>5.3</td>\n",
       "      <td>1357</td>\n",
       "    </tr>\n",
       "    <tr>\n",
       "      <th>3</th>\n",
       "      <td>2017</td>\n",
       "      <td>9</td>\n",
       "      <td>2.50</td>\n",
       "      <td>5.3</td>\n",
       "      <td>1293</td>\n",
       "    </tr>\n",
       "    <tr>\n",
       "      <th>4</th>\n",
       "      <td>2017</td>\n",
       "      <td>8</td>\n",
       "      <td>2.50</td>\n",
       "      <td>5.4</td>\n",
       "      <td>1256</td>\n",
       "    </tr>\n",
       "  </tbody>\n",
       "</table>\n",
       "</div>"
      ],
      "text/plain": [
       "   Year  Month  Interest_Rate  Unemployment_Rate  Stock_Index_Price\n",
       "0  2017     12           2.75                5.3               1464\n",
       "1  2017     11           2.50                5.3               1394\n",
       "2  2017     10           2.50                5.3               1357\n",
       "3  2017      9           2.50                5.3               1293\n",
       "4  2017      8           2.50                5.4               1256"
      ]
     },
     "execution_count": 17,
     "metadata": {},
     "output_type": "execute_result"
    }
   ],
   "source": [
    "df.head()"
   ]
  },
  {
   "cell_type": "code",
   "execution_count": 32,
   "id": "75f9dcc0",
   "metadata": {},
   "outputs": [
    {
     "data": {
      "image/png": "[encoded data removed]",
      "text/plain": [
       "<Figure size 432x288 with 1 Axes>"
      ]
     },
     "metadata": {
      "needs_background": "light"
     },
     "output_type": "display_data"
    }
   ],
   "source": [
    "plt.scatter(df[ 'Interest_Rate'],df['Stock_Index_Price'],color=\"blue\")\n",
    "plt.title(\"A graph of Stock Index Price Vs Interest Rate\",fontsize=14)\n",
    "plt.xlabel('Interest_Rate',fontsize=14)\n",
    "plt.ylabel('Stock_Index_Price',fontsize=14)\n",
    "plt.grid(True)\n",
    "plt.show()"
   ]
  },
  {
   "cell_type": "code",
   "execution_count": 33,
   "id": "8ca7b6b6",
   "metadata": {},
   "outputs": [
    {
     "data": {
      "image/png": "[encoded data removed]",
      "text/plain": [
       "<Figure size 432x288 with 1 Axes>"
      ]
     },
     "metadata": {
      "needs_background": "light"
     },
     "output_type": "display_data"
    }
   ],
   "source": [
    "plt.scatter(df[ 'Unemployment_Rate'],df['Stock_Index_Price'],color=\"blue\")\n",
    "plt.title(\"A graph of Stock Index Price Vs Unemployment_Rate\",fontsize=14)\n",
    "plt.xlabel('Unemployment_Rate',fontsize=14)\n",
    "plt.ylabel('Stock_Index_Price',fontsize=14)\n",
    "plt.grid(True)\n",
    "plt.show()"
   ]
  },
  {
   "cell_type": "code",
   "execution_count": 36,
   "id": "f4c7a13c",
   "metadata": {},
   "outputs": [
    {
     "data": {
      "text/html": [
       "<div>\n",
       "<style scoped>\n",
       "    .dataframe tbody tr th:only-of-type {\n",
       "        vertical-align: middle;\n",
       "    }\n",
       "\n",
       "    .dataframe tbody tr th {\n",
       "        vertical-align: top;\n",
       "    }\n",
       "\n",
       "    .dataframe thead th {\n",
       "        text-align: right;\n",
       "    }\n",
       "</style>\n",
       "<table border=\"1\" class=\"dataframe\">\n",
       "  <thead>\n",
       "    <tr style=\"text-align: right;\">\n",
       "      <th></th>\n",
       "      <th>Year</th>\n",
       "      <th>Month</th>\n",
       "      <th>Interest_Rate</th>\n",
       "      <th>Unemployment_Rate</th>\n",
       "      <th>Stock_Index_Price</th>\n",
       "    </tr>\n",
       "  </thead>\n",
       "  <tbody>\n",
       "    <tr>\n",
       "      <th>Year</th>\n",
       "      <td>NaN</td>\n",
       "      <td>NaN</td>\n",
       "      <td>NaN</td>\n",
       "      <td>NaN</td>\n",
       "      <td>NaN</td>\n",
       "    </tr>\n",
       "    <tr>\n",
       "      <th>Month</th>\n",
       "      <td>NaN</td>\n",
       "      <td>1.000000</td>\n",
       "      <td>0.480384</td>\n",
       "      <td>-0.393042</td>\n",
       "      <td>0.570863</td>\n",
       "    </tr>\n",
       "    <tr>\n",
       "      <th>Interest_Rate</th>\n",
       "      <td>NaN</td>\n",
       "      <td>0.480384</td>\n",
       "      <td>1.000000</td>\n",
       "      <td>-0.181818</td>\n",
       "      <td>0.634003</td>\n",
       "    </tr>\n",
       "    <tr>\n",
       "      <th>Unemployment_Rate</th>\n",
       "      <td>NaN</td>\n",
       "      <td>-0.393042</td>\n",
       "      <td>-0.181818</td>\n",
       "      <td>1.000000</td>\n",
       "      <td>-0.560891</td>\n",
       "    </tr>\n",
       "    <tr>\n",
       "      <th>Stock_Index_Price</th>\n",
       "      <td>NaN</td>\n",
       "      <td>0.570863</td>\n",
       "      <td>0.634003</td>\n",
       "      <td>-0.560891</td>\n",
       "      <td>1.000000</td>\n",
       "    </tr>\n",
       "  </tbody>\n",
       "</table>\n",
       "</div>"
      ],
      "text/plain": [
       "                   Year     Month  Interest_Rate  Unemployment_Rate  \\\n",
       "Year                NaN       NaN            NaN                NaN   \n",
       "Month               NaN  1.000000       0.480384          -0.393042   \n",
       "Interest_Rate       NaN  0.480384       1.000000          -0.181818   \n",
       "Unemployment_Rate   NaN -0.393042      -0.181818           1.000000   \n",
       "Stock_Index_Price   NaN  0.570863       0.634003          -0.560891   \n",
       "\n",
       "                   Stock_Index_Price  \n",
       "Year                             NaN  \n",
       "Month                       0.570863  \n",
       "Interest_Rate               0.634003  \n",
       "Unemployment_Rate          -0.560891  \n",
       "Stock_Index_Price           1.000000  "
      ]
     },
     "execution_count": 36,
     "metadata": {},
     "output_type": "execute_result"
    }
   ],
   "source": [
    "df.corr()#correlation"
   ]
  },
  {
   "cell_type": "code",
   "execution_count": 50,
   "id": "f40d4a20",
   "metadata": {},
   "outputs": [],
   "source": [
    "# 'Interest_Rate has a positive correlation to the Stock_Index_Price while Unemployment_Rate# 'Interest_Rate has a negative correlation to the Stock_Index_Price\n",
    "x=df[['Interest_Rate','Unemployment_Rate']]\n",
    "# 'Interest_Rate & Unemployment_Rate are the independent variables since they affect the stock index pricce\n",
    "# stock index price is the target to be predicted(dependent variables) thus acquiring variable y\n",
    "y=df['Stock_Index_Price']"
   ]
  },
  {
   "cell_type": "code",
   "execution_count": 51,
   "id": "0468dd89",
   "metadata": {},
   "outputs": [
    {
     "data": {
      "text/plain": [
       "LinearRegression()"
      ]
     },
     "execution_count": 51,
     "metadata": {},
     "output_type": "execute_result"
    }
   ],
   "source": [
    "from sklearn import linear_model\n",
    "regr=linear_model.LinearRegression()\n",
    "regr.fit(x,y)\n",
    "# fit() method takes the training data as arguments, which can be one array in the case of unsupervised learning,\n",
    "# or two arrays in the case of supervised learning. Note that the model is fitted using X and y\n",
    "# , but the object holds no reference to X and y ."
   ]
  },
  {
   "cell_type": "code",
   "execution_count": 52,
   "id": "1ea70a94",
   "metadata": {},
   "outputs": [
    {
     "name": "stdout",
     "output_type": "stream",
     "text": [
      "intercept 1477.487179487184\n",
      "intercept [ 550.05128205 -287.94871795]\n"
     ]
    }
   ],
   "source": [
    "print(\"intercept\",regr.intercept_)\n",
    "print(\"intercept\",regr.coef_)\n",
    "# there will be only one y intercept \n",
    "#Since we have two independent variables there will be two coefficents  "
   ]
  },
  {
   "cell_type": "code",
   "execution_count": 53,
   "id": "c4233bc7",
   "metadata": {},
   "outputs": [
    {
     "data": {
      "text/plain": [
       "array([1464.])"
      ]
     },
     "execution_count": 53,
     "metadata": {},
     "output_type": "execute_result"
    }
   ],
   "source": [
    "New_Interest_Rate=2.75\n",
    "New_Unemployment_Rate=5.3\n",
    "regr.predict([[New_Interest_Rate,New_Unemployment_Rate]])"
   ]
  },
  {
   "cell_type": "code",
   "execution_count": 61,
   "id": "c5c2fe30",
   "metadata": {},
   "outputs": [
    {
     "name": "stdout",
     "output_type": "stream",
     "text": [
      "                            OLS Regression Results                            \n",
      "==============================================================================\n",
      "Dep. Variable:                      y   R-squared:                       0.607\n",
      "Model:                            OLS   Adj. R-squared:                  0.520\n",
      "Method:                 Least Squares   F-statistic:                     6.960\n",
      "Date:                Tue, 02 Nov 2021   Prob (F-statistic):             0.0149\n",
      "Time:                        16:47:21   Log-Likelihood:                -62.241\n",
      "No. Observations:                  12   AIC:                             130.5\n",
      "Df Residuals:                       9   BIC:                             131.9\n",
      "Df Model:                           2                                         \n",
      "Covariance Type:            nonrobust                                         \n",
      "==============================================================================\n",
      "                 coef    std err          t      P>|t|      [0.025      0.975]\n",
      "------------------------------------------------------------------------------\n",
      "Intercept   1477.4872    965.805      1.530      0.160    -707.316    3662.290\n",
      "x[0]         550.0513    212.358      2.590      0.029      69.664    1030.439\n",
      "x[1]        -287.9487    132.724     -2.170      0.058    -588.191      12.294\n",
      "==============================================================================\n",
      "Omnibus:                        0.702   Durbin-Watson:                   2.194\n",
      "Prob(Omnibus):                  0.704   Jarque-Bera (JB):                0.586\n",
      "Skew:                           0.062   Prob(JB):                        0.746\n",
      "Kurtosis:                       1.925   Cond. No.                         410.\n",
      "==============================================================================\n",
      "\n",
      "Notes:\n",
      "[1] Standard Errors assume that the covariance matrix of the errors is correctly specified.\n"
     ]
    },
    {
     "name": "stderr",
     "output_type": "stream",
     "text": [
      "C:\\Users\\VICKFURY\\anaconda3\\lib\\site-packages\\scipy\\stats\\stats.py:1603: UserWarning: kurtosistest only valid for n>=20 ... continuing anyway, n=12\n",
      "  warnings.warn(\"kurtosistest only valid for n>=20 ... continuing \"\n"
     ]
    }
   ],
   "source": [
    "x=df[['Interest_Rate','Unemployment_Rate']]\n",
    "y=df['Stock_Index_Price']\n",
    "model=(smf.ols(formula =\"y ~ x\",data=df)).fit()\n",
    "predictions=model.predict(x)\n",
    "print(model.summary())"
   ]
  },
  {
   "cell_type": "code",
   "execution_count": null,
   "id": "8bb1eeb1",
   "metadata": {},
   "outputs": [],
   "source": []
  }
 ],
 "metadata": {
  "kernelspec": {
   "display_name": "Python 3",
   "language": "python",
   "name": "python3"
  },
  "language_info": {
   "codemirror_mode": {
    "name": "ipython",
    "version": 3
   },
   "file_extension": ".py",
   "mimetype": "text/x-python",
   "name": "python",
   "nbconvert_exporter": "python",
   "pygments_lexer": "ipython3",
   "version": "3.8.8"
  }
 },
 "nbformat": 4,
 "nbformat_minor": 5
}
