{
 "cells": [
  {
   "cell_type": "code",
   "execution_count": 1,
   "id": "5181dfe3",
   "metadata": {},
   "outputs": [],
   "source": [
    "# Bulildng the tkinter app\n",
    "import numpy as np\n",
    "from sklearn import linear_model\n",
    "import pandas as pd\n",
    "import tkinter as tk\n",
    "import matplotlib.pyplot as plt\n",
    "from matplotlib.backends.backend_tkagg import FigureCanvasTkAgg"
   ]
  },
  {
   "cell_type": "code",
   "execution_count": 2,
   "id": "797dc7aa",
   "metadata": {},
   "outputs": [
    {
     "data": {
      "text/html": [
       "<div>\n",
       "<style scoped>\n",
       "    .dataframe tbody tr th:only-of-type {\n",
       "        vertical-align: middle;\n",
       "    }\n",
       "\n",
       "    .dataframe tbody tr th {\n",
       "        vertical-align: top;\n",
       "    }\n",
       "\n",
       "    .dataframe thead th {\n",
       "        text-align: right;\n",
       "    }\n",
       "</style>\n",
       "<table border=\"1\" class=\"dataframe\">\n",
       "  <thead>\n",
       "    <tr style=\"text-align: right;\">\n",
       "      <th></th>\n",
       "      <th>Interest_Rate</th>\n",
       "      <th>Unemployment_Rate</th>\n",
       "    </tr>\n",
       "  </thead>\n",
       "  <tbody>\n",
       "    <tr>\n",
       "      <th>0</th>\n",
       "      <td>2.75</td>\n",
       "      <td>5.3</td>\n",
       "    </tr>\n",
       "    <tr>\n",
       "      <th>1</th>\n",
       "      <td>2.50</td>\n",
       "      <td>5.3</td>\n",
       "    </tr>\n",
       "    <tr>\n",
       "      <th>2</th>\n",
       "      <td>2.50</td>\n",
       "      <td>5.3</td>\n",
       "    </tr>\n",
       "    <tr>\n",
       "      <th>3</th>\n",
       "      <td>2.50</td>\n",
       "      <td>5.3</td>\n",
       "    </tr>\n",
       "    <tr>\n",
       "      <th>4</th>\n",
       "      <td>2.50</td>\n",
       "      <td>5.4</td>\n",
       "    </tr>\n",
       "    <tr>\n",
       "      <th>5</th>\n",
       "      <td>2.50</td>\n",
       "      <td>5.6</td>\n",
       "    </tr>\n",
       "    <tr>\n",
       "      <th>6</th>\n",
       "      <td>2.50</td>\n",
       "      <td>5.3</td>\n",
       "    </tr>\n",
       "    <tr>\n",
       "      <th>7</th>\n",
       "      <td>2.50</td>\n",
       "      <td>5.3</td>\n",
       "    </tr>\n",
       "    <tr>\n",
       "      <th>8</th>\n",
       "      <td>2.50</td>\n",
       "      <td>5.3</td>\n",
       "    </tr>\n",
       "    <tr>\n",
       "      <th>9</th>\n",
       "      <td>2.50</td>\n",
       "      <td>5.3</td>\n",
       "    </tr>\n",
       "    <tr>\n",
       "      <th>10</th>\n",
       "      <td>2.50</td>\n",
       "      <td>5.4</td>\n",
       "    </tr>\n",
       "    <tr>\n",
       "      <th>11</th>\n",
       "      <td>2.50</td>\n",
       "      <td>5.6</td>\n",
       "    </tr>\n",
       "  </tbody>\n",
       "</table>\n",
       "</div>"
      ],
      "text/plain": [
       "    Interest_Rate  Unemployment_Rate\n",
       "0            2.75                5.3\n",
       "1            2.50                5.3\n",
       "2            2.50                5.3\n",
       "3            2.50                5.3\n",
       "4            2.50                5.4\n",
       "5            2.50                5.6\n",
       "6            2.50                5.3\n",
       "7            2.50                5.3\n",
       "8            2.50                5.3\n",
       "9            2.50                5.3\n",
       "10           2.50                5.4\n",
       "11           2.50                5.6"
      ]
     },
     "execution_count": 2,
     "metadata": {},
     "output_type": "execute_result"
    }
   ],
   "source": [
    "Stock_Market = { 'Year': [2017,2017,2017,2017,2017,2017,2017,2017,2017,2017,2017,2017],\n",
    "                'Month':[12,11,10,9,8,7,6,5,4,3,2,1],\n",
    "    'Interest_Rate':[2.75,2.5,2.5,2.5,2.5,2.5,2.5,2.5,2.5,2.5,2.5,2.5],\n",
    "                'Unemployment_Rate':[5.3,5.3,5.3,5.3,5.4,5.6,5.3,5.3,5.3,5.3,5.4,5.6],\n",
    "                'Stock_Index_Price':[1464,1394,1357,1293,1256,1254,1253,1394,1357,1293,1256,1254]\n",
    "    \n",
    "}\n",
    "df=pd.DataFrame(Stock_Market,columns=['Year','Month','Interest_Rate','Unemployment_Rate','Stock_Index_Price'])\n",
    "x=df[['Interest_Rate','Unemployment_Rate']].astype(float)\n",
    "y=df['Stock_Index_Price'].astype(float)\n",
    "x"
   ]
  },
  {
   "cell_type": "code",
   "execution_count": 3,
   "id": "cf88a9b9",
   "metadata": {},
   "outputs": [
    {
     "data": {
      "text/plain": [
       "LinearRegression()"
      ]
     },
     "execution_count": 3,
     "metadata": {},
     "output_type": "execute_result"
    }
   ],
   "source": [
    "regr=linear_model.LinearRegression()\n",
    "regr.fit(x,y)"
   ]
  },
  {
   "cell_type": "code",
   "execution_count": 4,
   "id": "403bc693",
   "metadata": {},
   "outputs": [
    {
     "name": "stdout",
     "output_type": "stream",
     "text": [
      "intercept 1477.487179487184\n",
      "intercept [ 550.05128205 -287.94871795]\n"
     ]
    }
   ],
   "source": [
    "print(\"intercept\",regr.intercept_)\n",
    "print(\"intercept\",regr.coef_)"
   ]
  },
  {
   "cell_type": "code",
   "execution_count": 5,
   "id": "00753463",
   "metadata": {},
   "outputs": [],
   "source": [
    "# tkinter for gui\n",
    "root=tk.Tk()\n",
    "canvas1=tk.Canvas(root,width=500,height=300)\n",
    "canvas1.pack()"
   ]
  },
  {
   "cell_type": "code",
   "execution_count": 6,
   "id": "bf73b74a",
   "metadata": {},
   "outputs": [],
   "source": [
    "# with sklearn\n",
    "Intercept_result=(\"Intercept: \",regr.intercept_)\n",
    "label_intercept=tk.Label(root,text=Intercept_result,justify=\"center\")\n",
    "canvas1.create_window(260,245,window=label_intercept)\n",
    "label_intercept.config(font=(\"Times\",14))\n",
    "\n",
    "Coefficients_result=(\"Coefficients : \",regr.coef_)\n",
    "label_Coefficients=tk.Label(root,text=Coefficients_result,justify=\"center\")\n",
    "canvas1.create_window(260,245,window=label_Coefficients)\n",
    "label_Coefficients.config(font=(\"Times\",14))\n",
    "canvas1.create_window(260,245,window=label_Coefficients)\n",
    "label_Coefficients.config(font=(\"Times\",14))\n",
    "# New interest rate label and input box\n",
    "label1=tk.Label(root,text=\"Type Interest Rate: \")\n",
    "canvas1.create_window(100,100,window=label1)\n",
    "label1.config(font=(\"Times\",18))\n",
    "\n",
    "entry1=tk.Entry(root)\n",
    "canvas1.create_window(380,100,window=entry1)\n",
    "entry1.config(font=(\"Times\",18))\n",
    "# New Unemployment Rate label and input box\n",
    "\n",
    "label2=tk.Label(root,text=\"Type Unemployment Rate: \")\n",
    "canvas1.create_window(120,130,window=label2)\n",
    "label2.config(font=(\"Times\",18))\n",
    "\n",
    "entry2=tk.Entry(root)\n",
    "canvas1.create_window(380,130,window=entry2)\n",
    "entry2.config(font=(\"Times\",18))\n",
    "\n",
    "def value():\n",
    "    try:\n",
    "        global New_Interest_Rate\n",
    "        New_Interest_Rate=float(entry1.get())\n",
    "        global New_Unemployment_Rate\n",
    "        New_Unemployment_Rate=float(entry2.get())\n",
    "        Prediction_result=(\"Predicted Stock Price: \",regr.predict([[New_Interest_Rate,New_Unemployment_Rate]]))\n",
    "        label_Prediction=tk.Label(root,text=Prediction_result, bg=\"Yellow\")\n",
    "        canvas1.create_window(260,280,window=label_Prediction)\n",
    "        label_Prediction.config(font=(\"Times\",18))\n",
    "    except Exception as ex:\n",
    "           label_Prediction=tk.Label(root,text=ex, bg=\"Red\")\n",
    "           canvas1.create_window(260,280,window=label_Prediction)\n",
    "           label_Prediction.config(font=(\"Times\",18))\n",
    "\n",
    "button1=tk.Button(root,text=\"Predict Stock Index Price\",command=value)\n",
    "canvas1.create_window(270,180,window=button1)\n",
    "button1.config(font=(\"Times\",18))\n",
    "\n",
    "# plot 1st scatter\n",
    "scatter1=plt.Figure(figsize=(5,4),dpi=100)\n",
    "ax3=scatter1.add_subplot(111)\n",
    "ax3.scatter(df['Interest_Rate'].astype(float),df['Stock_Index_Price'].astype(float),color=\"blue\")\n",
    "figure1=FigureCanvasTkAgg(scatter1,root)\n",
    "figure1.get_tk_widget().pack(side=tk.RIGHT,fill=tk.BOTH)\n",
    "ax3.legend(['Stock_Index_Price'])\n",
    "ax3.set_xlabel(\"Interest_Rate\")\n",
    "ax3.set_title(\"Stock_Index_Price vs Interest_Rate\")\n",
    "\n",
    "# plot 1st scatter\n",
    "scatter2=plt.Figure(figsize=(5,4),dpi=100)\n",
    "ax4=scatter2.add_subplot(111)\n",
    "ax4.scatter(df['Unemployment_Rate'].astype(float),df['Stock_Index_Price'].astype(float),color=\"r\")\n",
    "figure2=FigureCanvasTkAgg(scatter2,root)\n",
    "figure2.get_tk_widget().pack(side=tk.RIGHT,fill=tk.BOTH)\n",
    "ax4.legend(['Stock_Index_Price'])\n",
    "ax4.set_xlabel('Unemployment_Rate')\n",
    "ax4.set_title(\"Stock_Index_Price vs Unemployment_Rate\")\n",
    "\n",
    "root.mainloop()\n"
   ]
  },
  {
   "cell_type": "code",
   "execution_count": null,
   "id": "9764b411",
   "metadata": {},
   "outputs": [],
   "source": []
  },
  {
   "cell_type": "code",
   "execution_count": null,
   "id": "79988959",
   "metadata": {},
   "outputs": [],
   "source": []
  },
  {
   "cell_type": "code",
   "execution_count": null,
   "id": "cb0853d2",
   "metadata": {},
   "outputs": [],
   "source": []
  }
 ],
 "metadata": {
  "kernelspec": {
   "display_name": "Python 3",
   "language": "python",
   "name": "python3"
  },
  "language_info": {
   "codemirror_mode": {
    "name": "ipython",
    "version": 3
   },
   "file_extension": ".py",
   "mimetype": "text/x-python",
   "name": "python",
   "nbconvert_exporter": "python",
   "pygments_lexer": "ipython3",
   "version": "3.8.8"
  }
 },
 "nbformat": 4,
 "nbformat_minor": 5
}
